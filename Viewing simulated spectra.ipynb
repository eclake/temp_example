{
 "cells": [
  {
   "cell_type": "code",
   "execution_count": 6,
   "metadata": {
    "collapsed": false
   },
   "outputs": [
    {
     "name": "stdout",
     "output_type": "stream",
     "text": [
      "Populating the interactive namespace from numpy and matplotlib\n"
     ]
    }
   ],
   "source": [
    "%pylab inline\n",
    "from astropy.io import fits"
   ]
  },
  {
   "cell_type": "code",
   "execution_count": 10,
   "metadata": {
    "collapsed": true
   },
   "outputs": [],
   "source": [
    "obj = 1 # can be 0, 1, 2\n",
    "inputFile = 'catalogue.fits'\n",
    "simulatedSpectrumFile0 = 'spec_'+str(obj)+'.fits'"
   ]
  },
  {
   "cell_type": "code",
   "execution_count": null,
   "metadata": {
    "collapsed": false
   },
   "outputs": [],
   "source": [
    "catalogue = fits.open(inputFile)\n",
    "simSpec = fits.open(simulatedSpectrumFile0)\n",
    "wl = catalogue['FULL SED WL'].data[0][0]\n",
    "spec = catalogue['FULL SED'].data[obj,:]\n",
    "redshift = catalogue['GALAXY PROPERTIES'].data['redshift'][obj]"
   ]
  },
  {
   "cell_type": "code",
   "execution_count": null,
   "metadata": {
    "collapsed": false
   },
   "outputs": [
    {
     "name": "stderr",
     "output_type": "stream",
     "text": [
      "/Users/efcl2/anaconda/lib/python2.7/site-packages/IPython/kernel/__main__.py:3: RuntimeWarning: invalid value encountered in log10\n",
      "  app.launch_new_instance()\n"
     ]
    },
    {
     "data": {
      "text/plain": [
       "<matplotlib.text.Text at 0x105a79750>"
      ]
     },
     "execution_count": 12,
     "metadata": {},
     "output_type": "execute_result"
    }
   ],
   "source": [
    "pylab.plot(wl*(redshift+1), log10(spec/(1+redshift)))\n",
    "\n",
    "pylab.plot(simSpec[1].data['WAVELENGTH']*1.E10, log10(simSpec[1].data['FLUX']), c='r')\n",
    "\n",
    "ax=plt.gca()\n",
    "ax.set_xlim(0,10000*(1+redshift))\n",
    "\n",
    "pylab.xlabel('$\\lambda_{\\\\textnormal{obs}}$ $\\\\textnormal{\\AA}$', fontsize=14)\n",
    "pylab.ylabel('log$_{10}$($f_{\\lambda} /\\\\textnormal{erg} \\\\textnormal{s}^{-1} \\\\textnormal{cm}^{-2} \\\\textnormal{\\AA}^{-1}$)', \\\n",
    "             fontsize=14)"
   ]
  },
  {
   "cell_type": "code",
   "execution_count": null,
   "metadata": {
    "collapsed": true
   },
   "outputs": [],
   "source": []
  }
 ],
 "metadata": {
  "kernelspec": {
   "display_name": "Python 2",
   "language": "python",
   "name": "python2"
  },
  "language_info": {
   "codemirror_mode": {
    "name": "ipython",
    "version": 2
   },
   "file_extension": ".py",
   "mimetype": "text/x-python",
   "name": "python",
   "nbconvert_exporter": "python",
   "pygments_lexer": "ipython2",
   "version": "2.7.11"
  }
 },
 "nbformat": 4,
 "nbformat_minor": 0
}
